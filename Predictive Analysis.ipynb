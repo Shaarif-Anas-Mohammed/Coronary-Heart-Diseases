{
 "cells": [
  {
   "cell_type": "markdown",
   "id": "3436a57b-e373-46a8-9221-8db32baff767",
   "metadata": {
    "tags": []
   },
   "source": [
    "#### Working with Data set"
   ]
  },
  {
   "cell_type": "code",
   "execution_count": 2,
   "id": "3a8ded0d-38e1-40fe-9644-a99e04c7a414",
   "metadata": {
    "tags": []
   },
   "outputs": [],
   "source": [
    "import numpy as np\n",
    "import pandas as pd"
   ]
  },
  {
   "cell_type": "code",
   "execution_count": 3,
   "id": "fc8193fa-2706-4354-95f3-9b38d636aa8e",
   "metadata": {
    "tags": []
   },
   "outputs": [],
   "source": [
    "df = pd.read_csv(\"C:\\\\Users\\\\SHAARIF ANAS\\\\Desktop\\\\MAT 491\\\\final Project\\\\CHDdata.csv\")"
   ]
  },
  {
   "cell_type": "code",
   "execution_count": 4,
   "id": "e748b89c-8eea-49ce-99af-4292f1e21dd6",
   "metadata": {
    "tags": []
   },
   "outputs": [
    {
     "data": {
      "text/html": [
       "<div>\n",
       "<style scoped>\n",
       "    .dataframe tbody tr th:only-of-type {\n",
       "        vertical-align: middle;\n",
       "    }\n",
       "\n",
       "    .dataframe tbody tr th {\n",
       "        vertical-align: top;\n",
       "    }\n",
       "\n",
       "    .dataframe thead th {\n",
       "        text-align: right;\n",
       "    }\n",
       "</style>\n",
       "<table border=\"1\" class=\"dataframe\">\n",
       "  <thead>\n",
       "    <tr style=\"text-align: right;\">\n",
       "      <th></th>\n",
       "      <th>male</th>\n",
       "      <th>age</th>\n",
       "      <th>education</th>\n",
       "      <th>currentSmoker</th>\n",
       "      <th>cigsPerDay</th>\n",
       "      <th>BPMeds</th>\n",
       "      <th>prevalentStroke</th>\n",
       "      <th>prevalentHyp</th>\n",
       "      <th>diabetes</th>\n",
       "      <th>totChol</th>\n",
       "      <th>sysBP</th>\n",
       "      <th>diaBP</th>\n",
       "      <th>BMI</th>\n",
       "      <th>heartRate</th>\n",
       "      <th>glucose</th>\n",
       "      <th>TenYearCHD</th>\n",
       "    </tr>\n",
       "  </thead>\n",
       "  <tbody>\n",
       "    <tr>\n",
       "      <th>0</th>\n",
       "      <td>1</td>\n",
       "      <td>39</td>\n",
       "      <td>4</td>\n",
       "      <td>0</td>\n",
       "      <td>0</td>\n",
       "      <td>0</td>\n",
       "      <td>0</td>\n",
       "      <td>0</td>\n",
       "      <td>0</td>\n",
       "      <td>195</td>\n",
       "      <td>106.0</td>\n",
       "      <td>70.0</td>\n",
       "      <td>26.97</td>\n",
       "      <td>80.0</td>\n",
       "      <td>77</td>\n",
       "      <td>0</td>\n",
       "    </tr>\n",
       "    <tr>\n",
       "      <th>1</th>\n",
       "      <td>0</td>\n",
       "      <td>46</td>\n",
       "      <td>2</td>\n",
       "      <td>0</td>\n",
       "      <td>0</td>\n",
       "      <td>0</td>\n",
       "      <td>0</td>\n",
       "      <td>0</td>\n",
       "      <td>0</td>\n",
       "      <td>250</td>\n",
       "      <td>121.0</td>\n",
       "      <td>81.0</td>\n",
       "      <td>28.73</td>\n",
       "      <td>95.0</td>\n",
       "      <td>76</td>\n",
       "      <td>0</td>\n",
       "    </tr>\n",
       "    <tr>\n",
       "      <th>2</th>\n",
       "      <td>1</td>\n",
       "      <td>48</td>\n",
       "      <td>1</td>\n",
       "      <td>1</td>\n",
       "      <td>20</td>\n",
       "      <td>0</td>\n",
       "      <td>0</td>\n",
       "      <td>0</td>\n",
       "      <td>0</td>\n",
       "      <td>245</td>\n",
       "      <td>127.5</td>\n",
       "      <td>80.0</td>\n",
       "      <td>25.34</td>\n",
       "      <td>75.0</td>\n",
       "      <td>70</td>\n",
       "      <td>0</td>\n",
       "    </tr>\n",
       "    <tr>\n",
       "      <th>3</th>\n",
       "      <td>0</td>\n",
       "      <td>61</td>\n",
       "      <td>3</td>\n",
       "      <td>1</td>\n",
       "      <td>30</td>\n",
       "      <td>0</td>\n",
       "      <td>0</td>\n",
       "      <td>1</td>\n",
       "      <td>0</td>\n",
       "      <td>225</td>\n",
       "      <td>150.0</td>\n",
       "      <td>95.0</td>\n",
       "      <td>28.58</td>\n",
       "      <td>65.0</td>\n",
       "      <td>103</td>\n",
       "      <td>1</td>\n",
       "    </tr>\n",
       "    <tr>\n",
       "      <th>4</th>\n",
       "      <td>0</td>\n",
       "      <td>46</td>\n",
       "      <td>3</td>\n",
       "      <td>1</td>\n",
       "      <td>23</td>\n",
       "      <td>0</td>\n",
       "      <td>0</td>\n",
       "      <td>0</td>\n",
       "      <td>0</td>\n",
       "      <td>285</td>\n",
       "      <td>130.0</td>\n",
       "      <td>84.0</td>\n",
       "      <td>23.10</td>\n",
       "      <td>85.0</td>\n",
       "      <td>85</td>\n",
       "      <td>0</td>\n",
       "    </tr>\n",
       "    <tr>\n",
       "      <th>5</th>\n",
       "      <td>0</td>\n",
       "      <td>43</td>\n",
       "      <td>2</td>\n",
       "      <td>0</td>\n",
       "      <td>0</td>\n",
       "      <td>0</td>\n",
       "      <td>0</td>\n",
       "      <td>1</td>\n",
       "      <td>0</td>\n",
       "      <td>228</td>\n",
       "      <td>180.0</td>\n",
       "      <td>110.0</td>\n",
       "      <td>30.30</td>\n",
       "      <td>77.0</td>\n",
       "      <td>99</td>\n",
       "      <td>0</td>\n",
       "    </tr>\n",
       "    <tr>\n",
       "      <th>6</th>\n",
       "      <td>0</td>\n",
       "      <td>63</td>\n",
       "      <td>1</td>\n",
       "      <td>0</td>\n",
       "      <td>0</td>\n",
       "      <td>0</td>\n",
       "      <td>0</td>\n",
       "      <td>0</td>\n",
       "      <td>0</td>\n",
       "      <td>205</td>\n",
       "      <td>138.0</td>\n",
       "      <td>71.0</td>\n",
       "      <td>33.11</td>\n",
       "      <td>60.0</td>\n",
       "      <td>85</td>\n",
       "      <td>1</td>\n",
       "    </tr>\n",
       "    <tr>\n",
       "      <th>7</th>\n",
       "      <td>0</td>\n",
       "      <td>45</td>\n",
       "      <td>2</td>\n",
       "      <td>1</td>\n",
       "      <td>20</td>\n",
       "      <td>0</td>\n",
       "      <td>0</td>\n",
       "      <td>0</td>\n",
       "      <td>0</td>\n",
       "      <td>313</td>\n",
       "      <td>100.0</td>\n",
       "      <td>71.0</td>\n",
       "      <td>21.68</td>\n",
       "      <td>79.0</td>\n",
       "      <td>78</td>\n",
       "      <td>0</td>\n",
       "    </tr>\n",
       "    <tr>\n",
       "      <th>8</th>\n",
       "      <td>1</td>\n",
       "      <td>52</td>\n",
       "      <td>1</td>\n",
       "      <td>0</td>\n",
       "      <td>0</td>\n",
       "      <td>0</td>\n",
       "      <td>0</td>\n",
       "      <td>1</td>\n",
       "      <td>0</td>\n",
       "      <td>260</td>\n",
       "      <td>141.5</td>\n",
       "      <td>89.0</td>\n",
       "      <td>26.36</td>\n",
       "      <td>76.0</td>\n",
       "      <td>79</td>\n",
       "      <td>0</td>\n",
       "    </tr>\n",
       "    <tr>\n",
       "      <th>9</th>\n",
       "      <td>1</td>\n",
       "      <td>43</td>\n",
       "      <td>1</td>\n",
       "      <td>1</td>\n",
       "      <td>30</td>\n",
       "      <td>0</td>\n",
       "      <td>0</td>\n",
       "      <td>1</td>\n",
       "      <td>0</td>\n",
       "      <td>225</td>\n",
       "      <td>162.0</td>\n",
       "      <td>107.0</td>\n",
       "      <td>23.61</td>\n",
       "      <td>93.0</td>\n",
       "      <td>88</td>\n",
       "      <td>0</td>\n",
       "    </tr>\n",
       "  </tbody>\n",
       "</table>\n",
       "</div>"
      ],
      "text/plain": [
       "   male  age  education  currentSmoker  cigsPerDay  BPMeds  prevalentStroke  \\\n",
       "0     1   39          4              0           0       0                0   \n",
       "1     0   46          2              0           0       0                0   \n",
       "2     1   48          1              1          20       0                0   \n",
       "3     0   61          3              1          30       0                0   \n",
       "4     0   46          3              1          23       0                0   \n",
       "5     0   43          2              0           0       0                0   \n",
       "6     0   63          1              0           0       0                0   \n",
       "7     0   45          2              1          20       0                0   \n",
       "8     1   52          1              0           0       0                0   \n",
       "9     1   43          1              1          30       0                0   \n",
       "\n",
       "   prevalentHyp  diabetes  totChol  sysBP  diaBP    BMI  heartRate  glucose  \\\n",
       "0             0         0      195  106.0   70.0  26.97       80.0       77   \n",
       "1             0         0      250  121.0   81.0  28.73       95.0       76   \n",
       "2             0         0      245  127.5   80.0  25.34       75.0       70   \n",
       "3             1         0      225  150.0   95.0  28.58       65.0      103   \n",
       "4             0         0      285  130.0   84.0  23.10       85.0       85   \n",
       "5             1         0      228  180.0  110.0  30.30       77.0       99   \n",
       "6             0         0      205  138.0   71.0  33.11       60.0       85   \n",
       "7             0         0      313  100.0   71.0  21.68       79.0       78   \n",
       "8             1         0      260  141.5   89.0  26.36       76.0       79   \n",
       "9             1         0      225  162.0  107.0  23.61       93.0       88   \n",
       "\n",
       "   TenYearCHD  \n",
       "0           0  \n",
       "1           0  \n",
       "2           0  \n",
       "3           1  \n",
       "4           0  \n",
       "5           0  \n",
       "6           1  \n",
       "7           0  \n",
       "8           0  \n",
       "9           0  "
      ]
     },
     "execution_count": 4,
     "metadata": {},
     "output_type": "execute_result"
    }
   ],
   "source": [
    "df.head(10)"
   ]
  },
  {
   "cell_type": "code",
   "execution_count": 5,
   "id": "045d6566-651e-4ddc-aece-8b679259d171",
   "metadata": {
    "tags": []
   },
   "outputs": [
    {
     "data": {
      "text/plain": [
       "male                0\n",
       "age                 0\n",
       "education           0\n",
       "currentSmoker       0\n",
       "cigsPerDay          0\n",
       "BPMeds              0\n",
       "prevalentStroke     0\n",
       "prevalentHyp        0\n",
       "diabetes            0\n",
       "totChol             0\n",
       "sysBP               0\n",
       "diaBP               0\n",
       "BMI                19\n",
       "heartRate           1\n",
       "glucose             0\n",
       "TenYearCHD          0\n",
       "dtype: int64"
      ]
     },
     "execution_count": 5,
     "metadata": {},
     "output_type": "execute_result"
    }
   ],
   "source": [
    "missing_values = df.isnull().sum()\n",
    "missing_values"
   ]
  },
  {
   "cell_type": "code",
   "execution_count": 6,
   "id": "bf8e5549-9c5b-4042-9ec4-9002212c817b",
   "metadata": {
    "tags": []
   },
   "outputs": [],
   "source": [
    "df = df.dropna()"
   ]
  },
  {
   "cell_type": "code",
   "execution_count": 7,
   "id": "c44e35a2-311a-4674-8fe8-a23d65bf3901",
   "metadata": {
    "tags": []
   },
   "outputs": [
    {
     "data": {
      "text/plain": [
       "male               0\n",
       "age                0\n",
       "education          0\n",
       "currentSmoker      0\n",
       "cigsPerDay         0\n",
       "BPMeds             0\n",
       "prevalentStroke    0\n",
       "prevalentHyp       0\n",
       "diabetes           0\n",
       "totChol            0\n",
       "sysBP              0\n",
       "diaBP              0\n",
       "BMI                0\n",
       "heartRate          0\n",
       "glucose            0\n",
       "TenYearCHD         0\n",
       "dtype: int64"
      ]
     },
     "execution_count": 7,
     "metadata": {},
     "output_type": "execute_result"
    }
   ],
   "source": [
    "missing_values = df.isnull().sum()\n",
    "missing_values"
   ]
  },
  {
   "cell_type": "code",
   "execution_count": 8,
   "id": "7b02bb81-8ad8-4dae-a78c-19cdc0b61107",
   "metadata": {
    "tags": []
   },
   "outputs": [],
   "source": [
    "## Testing and Trainig Split (70% - 30%)\n",
    "from sklearn.model_selection import train_test_split\n",
    "\n",
    "feature_cols = df.columns.drop('TenYearCHD')\n",
    "x = df.drop('TenYearCHD', axis = 1)\n",
    "y = df[['TenYearCHD']]\n",
    "\n",
    "X_train, X_test, y_train, y_test = train_test_split(x, y, test_size=0.3, random_state=1) # 70% training and 30% test"
   ]
  },
  {
   "cell_type": "markdown",
   "id": "bd612397-be2b-4a5d-86d1-087abb946508",
   "metadata": {
    "tags": []
   },
   "source": [
    "#### LDA and QDA "
   ]
  },
  {
   "cell_type": "code",
   "execution_count": 42,
   "id": "c3b71901-c35f-4d0b-8936-864063e5c623",
   "metadata": {
    "tags": []
   },
   "outputs": [
    {
     "name": "stdout",
     "output_type": "stream",
     "text": [
      "Training Accuracy: 0.8543360433604336\n",
      "Testing Accuracy: 0.8562401263823065\n",
      "Area Under ROC curve: 0.7321903737037763\n"
     ]
    }
   ],
   "source": [
    "from sklearn.discriminant_analysis import LinearDiscriminantAnalysis, QuadraticDiscriminantAnalysis\n",
    "from sklearn.metrics import roc_auc_score\n",
    "from sklearn import metrics #Import scikit-learn metrics module for accuracy calculation\n",
    "from sklearn.metrics import recall_score\n",
    "from sklearn.metrics import f1_score\n",
    "\n",
    "lda = LinearDiscriminantAnalysis()\n",
    "model_1 = lda.fit(X_train, y_train.values.ravel())\n",
    "\n",
    "y_pred_train = model_1.predict(X_train)\n",
    "y_pred_test = model_1.predict(X_test)\n",
    "print(\"Training Accuracy:\",metrics.accuracy_score(y_train, y_pred_train))\n",
    "print(\"Testing Accuracy:\",metrics.accuracy_score(y_test, y_pred_test))\n",
    "\n",
    "lda_probabilities = model_1.predict_proba(X_test)[:,1]\n",
    "print(\"Area Under ROC curve:\",roc_auc_score(y_test, lda_probabilities))"
   ]
  },
  {
   "cell_type": "code",
   "execution_count": 43,
   "id": "01748980-d414-4d3d-8ce4-c4d6d6f1c57f",
   "metadata": {
    "tags": []
   },
   "outputs": [
    {
     "name": "stdout",
     "output_type": "stream",
     "text": [
      "Training Accuracy: 0.8221544715447154\n",
      "Testing Accuracy: 0.8278041074249605\n",
      "Area Under ROC curve: 0.704659068675406\n"
     ]
    }
   ],
   "source": [
    "qda = QuadraticDiscriminantAnalysis()\n",
    "model_2 = qda.fit(X_train, y_train.values.ravel())\n",
    "\n",
    "y_pred_train = model_2.predict(X_train)\n",
    "y_pred_test = model_2.predict(X_test)\n",
    "print(\"Training Accuracy:\",metrics.accuracy_score(y_train, y_pred_train))\n",
    "print(\"Testing Accuracy:\",metrics.accuracy_score(y_test, y_pred_test))\n",
    "\n",
    "qda_probabilities = model_2.predict_proba(X_test)[:,1]\n",
    "print(\"Area Under ROC curve:\",roc_auc_score(y_test, qda_probabilities))"
   ]
  },
  {
   "cell_type": "markdown",
   "id": "ebf567f0-c4aa-4f2b-a3cc-2368a3b9fa41",
   "metadata": {
    "tags": []
   },
   "source": [
    "#### Logistic Regression"
   ]
  },
  {
   "cell_type": "code",
   "execution_count": 44,
   "id": "fbdf14c9-37ab-4249-b8dd-8811f3a76584",
   "metadata": {
    "tags": []
   },
   "outputs": [
    {
     "name": "stdout",
     "output_type": "stream",
     "text": [
      "Training Accuracy: 0.8519647696476965\n",
      "Testing Accuracy: 0.8515007898894155\n",
      "Area Under ROC curve: 0.6503423987477989\n"
     ]
    },
    {
     "name": "stderr",
     "output_type": "stream",
     "text": [
      "C:\\Users\\SHAARIF ANAS\\anaconda3\\Lib\\site-packages\\sklearn\\linear_model\\_logistic.py:460: ConvergenceWarning: lbfgs failed to converge (status=1):\n",
      "STOP: TOTAL NO. of ITERATIONS REACHED LIMIT.\n",
      "\n",
      "Increase the number of iterations (max_iter) or scale the data as shown in:\n",
      "    https://scikit-learn.org/stable/modules/preprocessing.html\n",
      "Please also refer to the documentation for alternative solver options:\n",
      "    https://scikit-learn.org/stable/modules/linear_model.html#logistic-regression\n",
      "  n_iter_i = _check_optimize_result(\n"
     ]
    }
   ],
   "source": [
    "from sklearn.linear_model import LogisticRegression\n",
    "\n",
    "\n",
    "model_3 = LogisticRegression()\n",
    "model_3.fit(X_train, y_train.values.ravel())\n",
    "\n",
    "y_pred_train = model_3.predict(X_train)\n",
    "y_pred_test = model_3.predict(X_test)\n",
    "print(\"Training Accuracy:\",metrics.accuracy_score(y_train, y_pred_train))\n",
    "print(\"Testing Accuracy:\",metrics.accuracy_score(y_test, y_pred_test))\n",
    "\n",
    "logistic_probabilities = model_3.predict_proba(X_test)[:,1]\n",
    "print(\"Area Under ROC curve:\",roc_auc_score(y_test, logistic_probabilities))"
   ]
  },
  {
   "cell_type": "markdown",
   "id": "4466dc54-4cf1-4988-a28c-40e47f7061b1",
   "metadata": {
    "tags": []
   },
   "source": [
    "#### Decision Tree Classifier"
   ]
  },
  {
   "cell_type": "code",
   "execution_count": 45,
   "id": "95dc8981-482c-4b13-9a2b-b889ae6e5346",
   "metadata": {
    "tags": []
   },
   "outputs": [
    {
     "name": "stdout",
     "output_type": "stream",
     "text": [
      "Training Accuracy: 1.0\n",
      "Testing Accuracy: 0.7630331753554502\n",
      "Area Under ROC curve: 0.5507288201917433\n"
     ]
    }
   ],
   "source": [
    "from sklearn import tree\n",
    "from sklearn.tree import DecisionTreeClassifier # Import Decision Tree Classifier\n",
    "from sklearn.model_selection import GridSearchCV\n",
    "\n",
    "# Create Decision Tree classifer object\n",
    "clf_1 = DecisionTreeClassifier()\n",
    "\n",
    "# Train Decision Tree Classifer\n",
    "clf_1 = clf_1.fit(X_train,y_train)\n",
    "\n",
    "#Predict the response for test and training dataset\n",
    "y_pred_train = clf_1.predict(X_train)\n",
    "y_pred_test = clf_1.predict(X_test)\n",
    "print(\"Training Accuracy:\",metrics.accuracy_score(y_train, y_pred_train))\n",
    "print(\"Testing Accuracy:\",metrics.accuracy_score(y_test, y_pred_test))\n",
    "\n",
    "Decision_tree_probabilities = clf_1.predict_proba(X_test)[:,1]\n",
    "print(\"Area Under ROC curve:\",roc_auc_score(y_test, Decision_tree_probabilities))"
   ]
  },
  {
   "cell_type": "markdown",
   "id": "58433be1-17be-43aa-891e-31dcceb3c851",
   "metadata": {
    "tags": []
   },
   "source": [
    "##### Use Cross Validation for best parameters"
   ]
  },
  {
   "cell_type": "code",
   "execution_count": 46,
   "id": "c282bcf7-a742-4772-a412-77314aebbc2a",
   "metadata": {
    "tags": []
   },
   "outputs": [
    {
     "name": "stdout",
     "output_type": "stream",
     "text": [
      "Training Accuracy: 0.850609756097561\n",
      "Testing Accuracy: 0.8507109004739336\n",
      "Area Under ROC curve: 0.6616268831931129\n"
     ]
    }
   ],
   "source": [
    "params = {'max_depth': [2,4,6,8,10,12, 14, 16],\n",
    "         'min_samples_split': [2,3,4,5,6],\n",
    "         'min_samples_leaf': [1,2,3]}\n",
    "\n",
    "clf_1 = tree.DecisionTreeClassifier()\n",
    "gcv = GridSearchCV(estimator=clf_1,param_grid=params)\n",
    "gcv.fit(X_train,y_train)\n",
    "gcv.best_estimator_\n",
    "\n",
    "model_4 = gcv.best_estimator_\n",
    "model_4.fit(X_train,y_train)\n",
    "\n",
    "y_pred_train = model_4.predict(X_train)\n",
    "y_pred_test = model_4.predict(X_test)\n",
    "print(\"Training Accuracy:\",metrics.accuracy_score(y_train, y_pred_train))\n",
    "print(\"Testing Accuracy:\",metrics.accuracy_score(y_test, y_pred_test))\n",
    "\n",
    "decision_tree_probabilities = model_4.predict_proba(X_test)[:,1]\n",
    "print(\"Area Under ROC curve:\",roc_auc_score(y_test, decision_tree_probabilities))"
   ]
  },
  {
   "cell_type": "markdown",
   "id": "59db9c63-4e8f-4b4d-81d6-dcb40c64f334",
   "metadata": {
    "tags": []
   },
   "source": [
    "#### Bagging"
   ]
  },
  {
   "cell_type": "code",
   "execution_count": 47,
   "id": "2aa088b7-ebf7-4681-aa66-3548b0d14362",
   "metadata": {
    "tags": []
   },
   "outputs": [
    {
     "name": "stdout",
     "output_type": "stream",
     "text": [
      "Training Accuracy: 0.9718834688346883\n",
      "Testing Accuracy: 0.8459715639810427\n",
      "Area Under ROC curve: 0.6778541381334378\n"
     ]
    }
   ],
   "source": [
    "from sklearn.ensemble import BaggingClassifier,GradientBoostingClassifier\n",
    "\n",
    "model_5 = BaggingClassifier()\n",
    "model_5.fit(X_train, y_train.values.ravel())\n",
    "y_pred_train = model_5.predict(X_train)\n",
    "y_pred_test = model_5.predict(X_test)\n",
    "print(\"Training Accuracy:\",metrics.accuracy_score(y_train, y_pred_train))\n",
    "print(\"Testing Accuracy:\",metrics.accuracy_score(y_test, y_pred_test))\n",
    "\n",
    "bagging_probabilities = model_5.predict_proba(X_test)[:,1]\n",
    "print(\"Area Under ROC curve:\",roc_auc_score(y_test, bagging_probabilities))"
   ]
  },
  {
   "cell_type": "markdown",
   "id": "a0cb70ef-ab00-4c9b-bc40-b942c1ca7a1e",
   "metadata": {
    "tags": []
   },
   "source": [
    "#### Random Forest"
   ]
  },
  {
   "cell_type": "code",
   "execution_count": 48,
   "id": "528e806a-28f7-4a09-910a-e0fbb90c91d6",
   "metadata": {
    "tags": []
   },
   "outputs": [
    {
     "name": "stdout",
     "output_type": "stream",
     "text": [
      "Training Accuracy: 0.9996612466124661\n",
      "Testing Accuracy: 0.8475513428120063\n",
      "Area Under ROC curve: 0.6942990608491488\n"
     ]
    }
   ],
   "source": [
    "from sklearn.ensemble import RandomForestClassifier\n",
    "\n",
    "model_6 = RandomForestClassifier()\n",
    "model_6.fit(X_train, y_train.values.ravel())\n",
    "\n",
    "y_pred_train = model_6.predict(X_train)\n",
    "y_pred_test = model_6.predict(X_test)\n",
    "print(\"Training Accuracy:\",metrics.accuracy_score(y_train, y_pred_train))\n",
    "print(\"Testing Accuracy:\",metrics.accuracy_score(y_test, y_pred_test))\n",
    "\n",
    "Rand_for_probabilities = model_6.predict_proba(X_test)[:,1]\n",
    "print(\"Area Under ROC curve:\",roc_auc_score(y_test, Rand_for_probabilities))"
   ]
  },
  {
   "cell_type": "markdown",
   "id": "d0cf7067-892b-4634-aef4-1f0e24f4fa1e",
   "metadata": {
    "tags": []
   },
   "source": [
    "#### Boosting"
   ]
  },
  {
   "cell_type": "code",
   "execution_count": 53,
   "id": "01c0e79c-a437-41fc-accf-9195ec4b25e2",
   "metadata": {
    "tags": []
   },
   "outputs": [
    {
     "name": "stdout",
     "output_type": "stream",
     "text": [
      "Training Accuracy: 0.8794037940379403\n",
      "Testing Accuracy: 0.8507109004739336\n",
      "Area Under ROC curve: 0.7049745646644492\n"
     ]
    },
    {
     "data": {
      "text/plain": [
       "array([0.05301046, 0.22438117, 0.01190795, 0.00166905, 0.0547807 ,\n",
       "       0.00427021, 0.00911903, 0.03676641, 0.00081787, 0.09549351,\n",
       "       0.14949764, 0.09283915, 0.11447481, 0.04890614, 0.1020659 ])"
      ]
     },
     "execution_count": 53,
     "metadata": {},
     "output_type": "execute_result"
    }
   ],
   "source": [
    "from sklearn.ensemble import GradientBoostingClassifier\n",
    "\n",
    "model_7 = GradientBoostingClassifier()\n",
    "model_7.fit(X_train, y_train.values.ravel())\n",
    "\n",
    "y_pred_train = model_7.predict(X_train)\n",
    "y_pred_test = model_7.predict(X_test)\n",
    "print(\"Training Accuracy:\",metrics.accuracy_score(y_train, y_pred_train))\n",
    "print(\"Testing Accuracy:\",metrics.accuracy_score(y_test, y_pred_test))\n",
    "\n",
    "boosting_probabilities = model_7.predict_proba(X_test)[:,1]\n",
    "print(\"Area Under ROC curve:\",roc_auc_score(y_test, boosting_probabilities))\n",
    "\n",
    "model_7.feature_importances_"
   ]
  },
  {
   "cell_type": "code",
   "execution_count": 20,
   "id": "732dafb1-f90d-4e48-bffa-82342b053da8",
   "metadata": {
    "tags": []
   },
   "outputs": [
    {
     "data": {
      "image/png": "[encoded data removed]",
      "text/plain": [
       "<Figure size 640x480 with 1 Axes>"
      ]
     },
     "metadata": {},
     "output_type": "display_data"
    }
   ],
   "source": [
    "import matplotlib.pyplot as plt\n",
    "\n",
    "feature_importances = model_7.feature_importances_\n",
    "sorted_indices = feature_importances.argsort()[::-1]\n",
    "plt.bar(range(X_train.shape[1]), feature_importances[sorted_indices])\n",
    "plt.xticks(range(X_train.shape[1]), df.columns[sorted_indices], rotation=90)\n",
    "plt.xlabel('Features')\n",
    "plt.ylabel('Feature Importance')\n",
    "plt.title('Gradient Boosting Feature Importances')\n",
    "plt.savefig(\"Feature imporatnces.png\")"
   ]
  },
  {
   "cell_type": "markdown",
   "id": "953c7b8d-86c3-4de2-b443-0157f15dd174",
   "metadata": {},
   "source": [
    "##### Use Cross Validation for best parameters"
   ]
  },
  {
   "cell_type": "code",
   "execution_count": 51,
   "id": "c2123be7-35ba-42e8-be3b-db5f95165eed",
   "metadata": {
    "tags": []
   },
   "outputs": [
    {
     "name": "stdout",
     "output_type": "stream",
     "text": [
      "Best: 0.851740 using {'learning_rate': 0.01, 'max_depth': 3, 'n_estimators': 500, 'subsample': 0.3}\n",
      "Training Accuracy: 0.9468157181571816\n",
      "Testing Accuracy: 0.8420221169036335\n",
      "Area Under ROC curve: 0.6879964781843083\n"
     ]
    }
   ],
   "source": [
    "from sklearn.model_selection import RepeatedStratifiedKFold\n",
    "from sklearn.model_selection import GridSearchCV\n",
    "\n",
    "model_8 = GradientBoostingClassifier()\n",
    "# define the grid of values to search\n",
    "grid = dict()\n",
    "grid['n_estimators'] = [10, 500]\n",
    "grid['learning_rate'] = [0.01, 0.1, 1.0]\n",
    "grid['subsample'] = [0.3, 0.7]\n",
    "grid['max_depth'] = [3, 7]\n",
    "# define the evaluation procedure\n",
    "cv = RepeatedStratifiedKFold(n_splits=10, n_repeats=3, random_state=1)\n",
    "# define the grid search procedure\n",
    "grid_search = GridSearchCV(estimator=model_8, param_grid=grid, n_jobs=-1, cv=cv, scoring='accuracy')\n",
    "# execute the grid search\n",
    "grid_result = grid_search.fit(X_train, y_train.values.ravel())\n",
    "\n",
    "print(\"Best: %f using %s\" % (grid_result.best_score_, grid_result.best_params_))\n",
    "\n",
    "model_8 = GradientBoostingClassifier(learning_rate=0.1, max_depth=7, n_estimators=50,subsample=0.7)\n",
    "model_8.fit(X_train, y_train.values.ravel())\n",
    "\n",
    "y_pred_train = model_8.predict(X_train)\n",
    "y_pred_test = model_8.predict(X_test)\n",
    "print(\"Training Accuracy:\",metrics.accuracy_score(y_train, y_pred_train))\n",
    "print(\"Testing Accuracy:\",metrics.accuracy_score(y_test, y_pred_test))\n",
    "\n",
    "boosting_probabilities = model_8.predict_proba(X_test)[:,1]\n",
    "print(\"Area Under ROC curve:\",roc_auc_score(y_test, boosting_probabilities))"
   ]
  },
  {
   "cell_type": "markdown",
   "id": "06d165bd-7e2c-4433-8160-557592eca891",
   "metadata": {
    "tags": []
   },
   "source": [
    "#### Support Vector Machine"
   ]
  },
  {
   "cell_type": "code",
   "execution_count": 58,
   "id": "1a47295a-dec8-41e6-bd61-88a6e2c55165",
   "metadata": {
    "tags": []
   },
   "outputs": [
    {
     "name": "stderr",
     "output_type": "stream",
     "text": [
      "C:\\Users\\SHAARIF ANAS\\anaconda3\\Lib\\site-packages\\sklearn\\utils\\validation.py:1184: DataConversionWarning: A column-vector y was passed when a 1d array was expected. Please change the shape of y to (n_samples, ), for example using ravel().\n",
      "  y = column_or_1d(y, warn=True)\n"
     ]
    },
    {
     "name": "stdout",
     "output_type": "stream",
     "text": [
      "Training Accuracy: 0.8499322493224932\n",
      "Testing Accuracy: 0.8499210110584519\n",
      "Area Under ROC curve: 0.7174525533163765\n"
     ]
    }
   ],
   "source": [
    "from sklearn import svm\n",
    "from sklearn.model_selection import GridSearchCV, KFold \n",
    "\n",
    "#Create a svm Classifier\n",
    "clf_2 = svm.SVC(kernel='linear', probability = True) # Linear Kernel\n",
    "#Train the model using the training sets\n",
    "clf_2.fit(X_train, y_train)\n",
    "\n",
    "y_pred_train = clf_2.predict(X_train)\n",
    "y_pred_test = clf_2.predict(X_test)\n",
    "print(\"Training Accuracy:\",metrics.accuracy_score(y_train, y_pred_train))\n",
    "print(\"Testing Accuracy:\",metrics.accuracy_score(y_test, y_pred_test))\n",
    "\n",
    "svm_probabilities = clf_2.predict_proba(X_test)[:,1]\n",
    "print(\"Area Under ROC curve:\",roc_auc_score(y_test, svm_probabilities))"
   ]
  },
  {
   "cell_type": "code",
   "execution_count": 57,
   "id": "dbbdd580-e8fe-4f99-8b4f-89df8a3899f4",
   "metadata": {
    "tags": []
   },
   "outputs": [
    {
     "name": "stderr",
     "output_type": "stream",
     "text": [
      "C:\\Users\\SHAARIF ANAS\\anaconda3\\Lib\\site-packages\\sklearn\\utils\\validation.py:1184: DataConversionWarning: A column-vector y was passed when a 1d array was expected. Please change the shape of y to (n_samples, ), for example using ravel().\n",
      "  y = column_or_1d(y, warn=True)\n"
     ]
    },
    {
     "name": "stdout",
     "output_type": "stream",
     "text": [
      "Training Accuracy: 0.8509485094850948\n",
      "Testing Accuracy: 0.8499210110584519\n",
      "Area Under ROC curve: 0.620759146937977\n"
     ]
    }
   ],
   "source": [
    "#Create a svm with radial kernel\n",
    "clf_3 = svm.SVC(kernel='rbf',probability = True) # rbf kernel\n",
    "#Train the model using the training sets\n",
    "clf_3.fit(X_train, y_train)\n",
    "\n",
    "y_pred_train = clf_3.predict(X_train)\n",
    "y_pred_test = clf_3.predict(X_test)\n",
    "print(\"Training Accuracy:\",metrics.accuracy_score(y_train, y_pred_train))\n",
    "print(\"Testing Accuracy:\",metrics.accuracy_score(y_test, y_pred_test))\n",
    "\n",
    "svm_probabilities = clf_3.predict_proba(X_test)[:,1]\n",
    "print(\"Area Under ROC curve:\",roc_auc_score(y_test, svm_probabilities))"
   ]
  },
  {
   "cell_type": "markdown",
   "id": "1d20af1b-73d9-4c5a-9e3a-e9047b5b962f",
   "metadata": {},
   "source": [
    "##### Use Cross Validation for best 'C'"
   ]
  },
  {
   "cell_type": "code",
   "execution_count": 24,
   "id": "28d59758-1ca0-4c3f-8038-4028964ac6f4",
   "metadata": {
    "tags": []
   },
   "outputs": [
    {
     "name": "stderr",
     "output_type": "stream",
     "text": [
      "C:\\Users\\SHAARIF ANAS\\anaconda3\\Lib\\site-packages\\sklearn\\utils\\validation.py:1184: DataConversionWarning: A column-vector y was passed when a 1d array was expected. Please change the shape of y to (n_samples, ), for example using ravel().\n",
      "  y = column_or_1d(y, warn=True)\n"
     ]
    },
    {
     "name": "stdout",
     "output_type": "stream",
     "text": [
      "accuracy: 0.850\n",
      "Config: {'C': 5.3581818181818175}\n"
     ]
    }
   ],
   "source": [
    "grid = dict()\n",
    "C = np.linspace(0.01,10, 100)\n",
    "cv = KFold(n_splits=5, shuffle=True, random_state=1)\n",
    "grid['C'] = C \n",
    "# define search\n",
    "search = GridSearchCV(clf_3, grid, scoring='accuracy', cv=cv, n_jobs=-1)\n",
    "result = search.fit(X_train,y_train)\n",
    "print('accuracy: %.3f' % result.best_score_)\n",
    "print('Config: %s' % result.best_params_)"
   ]
  },
  {
   "cell_type": "code",
   "execution_count": 25,
   "id": "e27bed36-9881-48e6-ac5c-60ef9fe3ec14",
   "metadata": {
    "tags": []
   },
   "outputs": [
    {
     "name": "stderr",
     "output_type": "stream",
     "text": [
      "C:\\Users\\SHAARIF ANAS\\anaconda3\\Lib\\site-packages\\sklearn\\utils\\validation.py:1184: DataConversionWarning: A column-vector y was passed when a 1d array was expected. Please change the shape of y to (n_samples, ), for example using ravel().\n",
      "  y = column_or_1d(y, warn=True)\n"
     ]
    },
    {
     "name": "stdout",
     "output_type": "stream",
     "text": [
      "Training Accuracy: 0.8512872628726287\n",
      "Testing Accuracy: 0.8499210110584519\n",
      "Area Under ROC curve: 0.6060213265505772\n"
     ]
    }
   ],
   "source": [
    "# SUPPORT VECTOR MACHINE WITH RADIAL KERNEL AND BEST 'C'\n",
    "\n",
    "#Create a svm with radial kernel with C = 5.358\n",
    "clf_best = svm.SVC(C = result.best_params_['C'], probability = True) # radial Kernel\n",
    "#Train the model using the training sets\n",
    "clf_best.fit(X_train, y_train)\n",
    "\n",
    "y_pred_test = clf_best.predict(X_test)\n",
    "y_pred_train = clf_best.predict(X_train)\n",
    "\n",
    "y_pred_train = clf_best.predict(X_train)\n",
    "y_pred_test = clf_best.predict(X_test)\n",
    "print(\"Training Accuracy:\",metrics.accuracy_score(y_train, y_pred_train))\n",
    "print(\"Testing Accuracy:\",metrics.accuracy_score(y_test, y_pred_test))\n",
    "\n",
    "svm_probabilities = clf_best.predict_proba(X_test)[:,1]\n",
    "print(\"Area Under ROC curve:\",roc_auc_score(y_test, svm_probabilities))"
   ]
  }
 ],
 "metadata": {
  "kernelspec": {
   "display_name": "Python 3 (ipykernel)",
   "language": "python",
   "name": "python3"
  },
  "language_info": {
   "codemirror_mode": {
    "name": "ipython",
    "version": 3
   },
   "file_extension": ".py",
   "mimetype": "text/x-python",
   "name": "python",
   "nbconvert_exporter": "python",
   "pygments_lexer": "ipython3",
   "version": "3.11.4"
  }
 },
 "nbformat": 4,
 "nbformat_minor": 5
}
